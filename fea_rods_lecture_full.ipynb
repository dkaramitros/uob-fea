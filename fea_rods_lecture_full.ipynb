{
 "cells": [
  {
   "cell_type": "markdown",
   "metadata": {},
   "source": [
    "# Finite Element Analysis\n",
    "Prepared by Dr Dimitris Karamitros, Senior Lecturer in Geotechnical Engineering.  \n",
    "Delivered as part of *CENG300010 - Advanced Structural Analysis* (University of Bristol, 2023).  \n",
    "<br>\n",
    "This notebook will introduce you to the implementation of the Finite Element Method.  \n",
    "It will focus on the simple case of rod elements that can only undertake tension and compresion.  \n",
    "<br>\n",
    "Note that the code could have been written more concisely, but it has been expanded to improve readability.  \n",
    "<br>\n",
    "*This is the full version, with comments and explanations.*"
   ]
  },
  {
   "cell_type": "markdown",
   "metadata": {},
   "source": [
    "## Libraries\n",
    "Finite Element Analysis requires basic linear algebra operations. The external library **numpy** will be imported to conduct these.  \n",
    "It is also possible to use **scipy**, which offers additional functionality for integration, differential equations, eigenvalue problems and others.  \n",
    "Nevertheless, **numpy** is sufficient for FEA.  \n",
    "<br>\n",
    "The **matplotlib.pyplot** library will also be imported to plot the obtained results."
   ]
  },
  {
   "cell_type": "code",
   "execution_count": 1,
   "id": "466318a5",
   "metadata": {},
   "outputs": [],
   "source": [
    "import numpy as np\n",
    "import matplotlib.pyplot as plt"
   ]
  },
  {
   "cell_type": "markdown",
   "id": "2118bcf7",
   "metadata": {},
   "source": [
    "## Pre-processing\n",
    "First, we will define the structure to be analysed."
   ]
  },
  {
   "cell_type": "markdown",
   "id": "3d7d7435",
   "metadata": {},
   "source": [
    "### Input Variables\n",
    "Basic variables are initially defined."
   ]
  },
  {
   "cell_type": "code",
   "execution_count": 2,
   "id": "f937db63",
   "metadata": {},
   "outputs": [],
   "source": [
    "E = 1\n",
    "A = 1\n",
    "L = 1\n",
    "F = 1"
   ]
  },
  {
   "cell_type": "markdown",
   "id": "ef41c853",
   "metadata": {},
   "source": [
    "### Mesh Definition\n",
    "To define the finite element mesh, we need a list of nodes, a list of elements connecting these nodes, properties for these elements, supports, and applied loads."
   ]
  },
  {
   "cell_type": "markdown",
   "metadata": {},
   "source": [
    "**Nodes** will be defined in terms of their coordinates **[x,y]**.  \n",
    "We will define node numbers as 1,2,3,... We will deal with Python indexing later."
   ]
  },
  {
   "cell_type": "code",
   "execution_count": 3,
   "id": "907bddee",
   "metadata": {},
   "outputs": [],
   "source": [
    "Nodes = np.array([\n",
    "    [0,0],\n",
    "    [0,L],\n",
    "    [L,0]])"
   ]
  },
  {
   "cell_type": "code",
   "execution_count": 4,
   "metadata": {},
   "outputs": [
    {
     "name": "stdout",
     "output_type": "stream",
     "text": [
      "Number of nodes =  3\n",
      "Number of DOFs =  6\n"
     ]
    }
   ],
   "source": [
    "# Count the number of nodes and degrees of freedom (DOFs):\n",
    "nNodes = Nodes.shape[0]\n",
    "nDOFs = 2*nNodes\n",
    "print(\"Number of nodes = \",nNodes)\n",
    "print(\"Number of DOFs = \",nDOFs)"
   ]
  },
  {
   "cell_type": "markdown",
   "metadata": {},
   "source": [
    "**Elements** will be defined in terms of starting and ending node, as **[node1,node2]**.  \n",
    "Remember to follow the same node numbering as above."
   ]
  },
  {
   "cell_type": "code",
   "execution_count": 5,
   "metadata": {},
   "outputs": [],
   "source": [
    "Elements = np.array([\n",
    "    [1,3],\n",
    "    [2,3],\n",
    "    [1,2]])"
   ]
  },
  {
   "cell_type": "code",
   "execution_count": 6,
   "metadata": {},
   "outputs": [
    {
     "name": "stdout",
     "output_type": "stream",
     "text": [
      "Number of elements =  3\n"
     ]
    }
   ],
   "source": [
    "# Count the number of elements:\n",
    "nElements = Elements.shape[0]\n",
    "print(\"Number of elements = \",nElements)"
   ]
  },
  {
   "cell_type": "markdown",
   "metadata": {},
   "source": [
    "For each element, **properties** will be defined following the convention **[E,A]**.  \n",
    "Remember to follow the same order of elements as above."
   ]
  },
  {
   "cell_type": "code",
   "execution_count": 7,
   "metadata": {},
   "outputs": [],
   "source": [
    "Properties = np.array([\n",
    "    [E,A],\n",
    "    [E,A],\n",
    "    [E,A]])"
   ]
  },
  {
   "cell_type": "markdown",
   "metadata": {},
   "source": [
    "**Supports** (applied displacements) will be defined following the convention [node, DOF (1 for x, 2 for y), displacement]."
   ]
  },
  {
   "cell_type": "code",
   "execution_count": 8,
   "metadata": {},
   "outputs": [],
   "source": [
    "Supports = np.array([\n",
    "    [1,1,0],\n",
    "    [2,1,0],\n",
    "    [2,2,0]])"
   ]
  },
  {
   "cell_type": "code",
   "execution_count": 9,
   "metadata": {},
   "outputs": [
    {
     "name": "stdout",
     "output_type": "stream",
     "text": [
      "Number of supports =  3\n"
     ]
    }
   ],
   "source": [
    "# Count the number of supports:\n",
    "nSupports = Supports.shape[0]\n",
    "print(\"Number of supports = \",nSupports)"
   ]
  },
  {
   "cell_type": "markdown",
   "metadata": {},
   "source": [
    "**Loads** (applied forces) will be defined following the convention [node, direction (1 for x, 2 for y), load].  \n",
    "Remember that *x* and *y* are positive towards the right and up, respectively."
   ]
  },
  {
   "cell_type": "code",
   "execution_count": 10,
   "metadata": {},
   "outputs": [],
   "source": [
    "Loads = np.array([\n",
    "    [3,2,-F]])"
   ]
  },
  {
   "cell_type": "code",
   "execution_count": 11,
   "metadata": {},
   "outputs": [
    {
     "name": "stdout",
     "output_type": "stream",
     "text": [
      "Number of loads =  1\n"
     ]
    }
   ],
   "source": [
    "# Count the number of loads:\n",
    "nLoads = Loads.shape[0]\n",
    "print(\"Number of loads = \",nLoads)"
   ]
  },
  {
   "cell_type": "markdown",
   "id": "33a6b490",
   "metadata": {},
   "source": [
    "### Plot Mesh\n",
    "We will plot the mesh to confirm that everything has been defined correctly."
   ]
  },
  {
   "cell_type": "code",
   "execution_count": 12,
   "id": "20e06117",
   "metadata": {},
   "outputs": [
    {
     "data": {
      "image/png": "[encoded data removed]",
      "text/plain": [
       "<Figure size 640x480 with 1 Axes>"
      ]
     },
     "metadata": {},
     "output_type": "display_data"
    }
   ],
   "source": [
    "# Create empty figure and axes\n",
    "fig1, ax1 = plt.subplots()\n",
    "# Set apsect ratio x:y to 1:1\n",
    "ax1.set_aspect(1)\n",
    "\n",
    "# For each one of the elements\n",
    "for iE,elem in enumerate(Elements):\n",
    "\n",
    "    # Find Element Nodes\n",
    "    node1 = elem[0]\n",
    "    node2 = elem[1]\n",
    "    \n",
    "    # Find Node Coordinates\n",
    "    # (we need to subtract 1 from node numbers, because we counted as 1,2,3,... while Python counts as 0,1,2,...)\n",
    "    # (we use 0 for y and 1 for y directions)\n",
    "    x1 = Nodes[node1-1,0]\n",
    "    y1 = Nodes[node1-1,1]\n",
    "    x2 = Nodes[node2-1,0]\n",
    "    y2 = Nodes[node2-1,1]\n",
    "\n",
    "    # Plot a Line\n",
    "    ax1.plot([x1,x2],[y1,y2], color='blue')\n",
    "\n",
    "    # Annotate the element number\n",
    "    # (we need to add 1 because Python starts counting at 0)\n",
    "    ax1.annotate(iE+1, xy=((x1+x2)/2,(y1+y2)/2), ha='center', va='center', color='blue', backgroundcolor='1')\n",
    "\n",
    "# For each one of the nodes\n",
    "for iN,node in enumerate(Nodes):\n",
    "\n",
    "    # Find Node Coordinates\n",
    "    x = node[0]\n",
    "    y = node[1]\n",
    "\n",
    "    # Annotate the node number\n",
    "    # (we need to add 1 because Python starts counting at 0)\n",
    "    ax1.annotate(iN+1, xy=(x,y), ha='center', va='center', color='black', backgroundcolor='1')"
   ]
  },
  {
   "cell_type": "markdown",
   "id": "cd9eb8c3",
   "metadata": {},
   "source": [
    "## Stiffness Matrix Assembly\n",
    "First, define the **Global Stiffness Matrix K**. It should be square, with dimensions equal to *nDOFs x nDOFs*."
   ]
  },
  {
   "cell_type": "code",
   "execution_count": 13,
   "id": "930e0efc",
   "metadata": {},
   "outputs": [],
   "source": [
    "K = np.zeros((nDOFs,nDOFs))"
   ]
  },
  {
   "cell_type": "markdown",
   "metadata": {},
   "source": [
    "Then, for each element, compute the **Element Stiffness Matrix ke**.  \n",
    "For rod elements, in the *local coodrinate system*, the Element Stiffness Matrix is:\n",
    "$$ [k_e] = \\frac{EA}{L} \\left[ \\begin{array}{cccc} 1&0&-1&0 \\\\ 0&0&0&0 \\\\ -1&0&1&0 \\\\ 0&0&0&0 \\end{array} \\right] $$\n",
    "The Element Stiffness Matrix in *global coordinates* is:\n",
    "$$ [K_e] = [T]^T [k_e] [T] $$\n",
    "where the *Coordinate Transform Matrix* is:\n",
    "$$ [K_e] = \\frac{EA}{L} \\left[ \\begin{array}{cccc} c&s&0&0 \\\\ -s&c&0&0 \\\\ 0&0&c&s \\\\ 0&0&-s&c \\end{array} \\right] $$"
   ]
  },
  {
   "cell_type": "code",
   "execution_count": 14,
   "metadata": {},
   "outputs": [
    {
     "name": "stdout",
     "output_type": "stream",
     "text": [
      "\n",
      "Element 1 Stiffness Matrix =\n",
      "[[ 1.  0. -1.  0.]\n",
      " [ 0.  0.  0.  0.]\n",
      " [-1.  0.  1.  0.]\n",
      " [ 0.  0.  0.  0.]]\n",
      "\n",
      "Element 2 Stiffness Matrix =\n",
      "[[ 0.354 -0.354 -0.354  0.354]\n",
      " [-0.354  0.354  0.354 -0.354]\n",
      " [-0.354  0.354  0.354 -0.354]\n",
      " [ 0.354 -0.354 -0.354  0.354]]\n",
      "\n",
      "Element 3 Stiffness Matrix =\n",
      "[[ 0.  0. -0. -0.]\n",
      " [ 0.  1. -0. -1.]\n",
      " [-0. -0.  0.  0.]\n",
      " [-0. -1.  0.  1.]]\n",
      "\n",
      "Global Stiffness Matrix =\n",
      "[[ 1.     0.    -0.    -0.    -1.     0.   ]\n",
      " [ 0.     1.    -0.    -1.     0.     0.   ]\n",
      " [-0.    -0.     0.354 -0.354 -0.354  0.354]\n",
      " [-0.    -1.    -0.354  1.354  0.354 -0.354]\n",
      " [-1.     0.    -0.354  0.354  1.354 -0.354]\n",
      " [ 0.     0.     0.354 -0.354 -0.354  0.354]]\n"
     ]
    }
   ],
   "source": [
    "# For each one of the elements\n",
    "for iE,elem in enumerate(Elements):\n",
    "\n",
    "    # Find Element Nodes\n",
    "    node1 = elem[0]\n",
    "    node2 = elem[1]\n",
    "    \n",
    "    # Find Node Coordinates\n",
    "    x1 = Nodes[node1-1,0]\n",
    "    y1 = Nodes[node1-1,1]\n",
    "    x2 = Nodes[node2-1,0]\n",
    "    y2 = Nodes[node2-1,1]\n",
    "\n",
    "    # Compute Element Stiffness Matrix in Local Coordinates\n",
    "    E = Properties[iE,0]\n",
    "    A = Properties[iE,1]\n",
    "    L = np.sqrt((x2-x1)**2+(y2-y1)**2)\n",
    "    ke = (E*A/L) * np.array([\n",
    "        [1,0,-1,0],\n",
    "        [0,0,0,0],\n",
    "        [-1,0,1,0],\n",
    "        [0,0,0,0]])\n",
    "\n",
    "    # Compute Coordinate Transformation Matrix\n",
    "    theta = np.arctan2((y2-y1),(x2-x1))\n",
    "    c = np.cos(theta)\n",
    "    s = np.sin(theta)\n",
    "    T = np.array([\n",
    "        [c,s,0,0],\n",
    "        [-s,c,0,0],\n",
    "        [0,0,c,s],\n",
    "        [0,0,-s,c]])\n",
    "   \n",
    "    # Compute Element Stiffness Matrix in Global Coordinates\n",
    "    Ke = T.T @ ke @ T\n",
    "    print(\"\\nElement\", iE+1, \"Stiffness Matrix =\")\n",
    "    with np.printoptions(precision = 3, suppress = True):\n",
    "        print(Ke)\n",
    "    \n",
    "    # Assemble Global Stiffness Matrix\n",
    "    # Observe that for node = 1,2,3,... the expression 2*(node-1) gives 0,2,4,...\n",
    "    # Similarly, for node = 1,2,3,... the expression 2*node gives 1,3,5,...    \n",
    "    K[2*(node1-1):2*node1 , 2*(node1-1):2*node1] += Ke[0:2,0:2]\n",
    "    K[2*(node1-1):2*node1 , 2*(node2-1):2*node2] += Ke[0:2,2:4]\n",
    "    K[2*(node2-1):2*node2 , 2*(node1-1):2*node1] += Ke[2:4,0:2]\n",
    "    K[2*(node2-1):2*node2 , 2*(node2-1):2*node2] += Ke[2:4,2:4]\n",
    "\n",
    "# Print the final matrix\n",
    "print(\"\\nGlobal Stiffness Matrix =\")\n",
    "with np.printoptions(precision = 3, suppress = True):\n",
    "    print(K)"
   ]
  },
  {
   "cell_type": "markdown",
   "id": "03359a31",
   "metadata": {},
   "source": [
    "## Partitioning & Solution\n",
    "To solve the problem, the stiffness matrix needs to be partitioned, based on known and unknown forces and displacements."
   ]
  },
  {
   "cell_type": "markdown",
   "metadata": {},
   "source": [
    "### Displacements\n",
    "We will start from the **known displacements** $\\{D_k\\}$, defined earlier as supports.  \n",
    "We will also define a vector with the corresponding degrees of freedom."
   ]
  },
  {
   "cell_type": "code",
   "execution_count": 15,
   "id": "9a08b634",
   "metadata": {},
   "outputs": [
    {
     "name": "stdout",
     "output_type": "stream",
     "text": [
      "Known Displacements Dk = \n",
      " [0. 0. 0.]\n",
      "\n",
      "Known Displacement DOFs =\n",
      " [0 2 3]\n"
     ]
    }
   ],
   "source": [
    "Dk = np.zeros(nSupports)\n",
    "DkDOFs = np.zeros(nSupports,dtype=int)\n",
    "\n",
    "# For each one of the supports:\n",
    "for iS,support in enumerate(Supports):\n",
    "\n",
    "    # Find the node number:\n",
    "    node = support[0]\n",
    "\n",
    "    # Find the support direction:\n",
    "    xy = support[1]\n",
    "\n",
    "    # Find the degree of freedom:\n",
    "    dof = 2*(node-1) + (xy-1)\n",
    "\n",
    "    # Append it to the known degrees of freedom vector:\n",
    "    DkDOFs[iS] = dof\n",
    "\n",
    "    # Find the applied displacement:\n",
    "    disp = support[2]\n",
    "\n",
    "    # Append it to the known displacements vector:\n",
    "    Dk[iS] = disp\n",
    "\n",
    "# Print the results\n",
    "print(\"Known Displacements Dk = \\n\",Dk)\n",
    "print(\"\\nKnown Displacement DOFs =\\n\",DkDOFs)"
   ]
  },
  {
   "cell_type": "markdown",
   "id": "2373657c",
   "metadata": {},
   "source": [
    "### Loads\n",
    "Similar to the above, we will generate a vector of **known forces** $\\{Q_k\\}$.  \n",
    "We will also define a vector of the corresponding degrees of freedom.  \n",
    "<br>\n",
    "Note that there might be zero loads that have note been defined above.  \n",
    "Therefore, we will first populate a vector with all the loads.  \n",
    "Then, we will remove known-displacement DOFs and we will be left with known-force DOFs.  "
   ]
  },
  {
   "cell_type": "code",
   "execution_count": 16,
   "id": "3a2a3230",
   "metadata": {},
   "outputs": [
    {
     "name": "stdout",
     "output_type": "stream",
     "text": [
      "Known Forces Qk = \n",
      " [ 0.  0. -1.]\n",
      "\n",
      "Known Force DOFs =\n",
      " [1 4 5]\n"
     ]
    }
   ],
   "source": [
    "# Start with all DOFs\n",
    "QkDOFs = np.arange(nDOFs)\n",
    "Qk = np.zeros(nDOFs)\n",
    "\n",
    "# For each one of the loads:\n",
    "for iL,load in enumerate(Loads):\n",
    "    \n",
    "    # Find the node number:\n",
    "    node = load[0]\n",
    "\n",
    "    # Find the load direction:\n",
    "    xy = load[1]\n",
    "\n",
    "    # Find the degree of freedom:\n",
    "    dof = 2*(node-1) + (xy-1)\n",
    "\n",
    "    # Find the applied force:\n",
    "    force = load[2]\n",
    "\n",
    "    # Append it to the known forces vector:\n",
    "    Qk[dof] = force\n",
    "    \n",
    "# Remove DOFs with known displacements\n",
    "QkDOFs = np.delete(QkDOFs,DkDOFs)\n",
    "Qk = np.delete(Qk,DkDOFs)\n",
    "\n",
    "# Print the results\n",
    "print(\"Known Forces Qk = \\n\",Qk)\n",
    "print(\"\\nKnown Force DOFs =\\n\",QkDOFs)"
   ]
  },
  {
   "cell_type": "markdown",
   "metadata": {},
   "source": [
    "DOFs with known displacements have unknown forces and vice versa:"
   ]
  },
  {
   "cell_type": "code",
   "execution_count": 17,
   "metadata": {},
   "outputs": [],
   "source": [
    "DuDOFs = QkDOFs\n",
    "QuDOFs = DkDOFs"
   ]
  },
  {
   "cell_type": "markdown",
   "id": "1af8eb07",
   "metadata": {},
   "source": [
    "### Partitioning\n",
    "Define the matrices $[K_{11}]$, $[K_{12}]$, $[K_{21}]$, and $[K_{22}]$."
   ]
  },
  {
   "cell_type": "code",
   "execution_count": 18,
   "id": "c1d7a443",
   "metadata": {},
   "outputs": [
    {
     "name": "stdout",
     "output_type": "stream",
     "text": [
      "K11 =\n",
      " [[ 1.     0.     0.   ]\n",
      " [ 0.     1.354 -0.354]\n",
      " [ 0.    -0.354  0.354]]\n",
      "\n",
      "K12 =\n",
      " [[ 0.    -0.    -1.   ]\n",
      " [-1.    -0.354  0.354]\n",
      " [ 0.     0.354 -0.354]]\n",
      "\n",
      "K21 =\n",
      " [[ 0.    -1.     0.   ]\n",
      " [-0.    -0.354  0.354]\n",
      " [-1.     0.354 -0.354]]\n",
      "\n",
      "K22 =\n",
      " [[ 1.    -0.    -0.   ]\n",
      " [-0.     0.354 -0.354]\n",
      " [-0.    -0.354  1.354]]\n"
     ]
    }
   ],
   "source": [
    "K11 = K[np.ix_(QkDOFs,DuDOFs)]\n",
    "K12 = K[np.ix_(QkDOFs,DkDOFs)]\n",
    "K21 = K[np.ix_(QuDOFs,DuDOFs)]\n",
    "K22 = K[np.ix_(QuDOFs,DkDOFs)]\n",
    "\n",
    "# Print the results\n",
    "np.set_printoptions(precision = 3, suppress = True)\n",
    "print(\"K11 =\\n\",K11)\n",
    "print(\"\\nK12 =\\n\",K12)\n",
    "print(\"\\nK21 =\\n\",K21)\n",
    "print(\"\\nK22 =\\n\",K22)"
   ]
  },
  {
   "cell_type": "markdown",
   "id": "3f0651e4",
   "metadata": {},
   "source": [
    "### Solution\n",
    "First, solve this equation:\n",
    "$$ \\{D_u\\} = [K_{11}]^{-1} (\\{Q_k\\} - [K_{12}]\\{D_k\\}) $$"
   ]
  },
  {
   "cell_type": "code",
   "execution_count": 19,
   "id": "79776687",
   "metadata": {},
   "outputs": [
    {
     "name": "stdout",
     "output_type": "stream",
     "text": [
      "Computed displacements Du = \n",
      " [ 0.    -1.    -3.828]\n"
     ]
    }
   ],
   "source": [
    "Du = np.linalg.solve(K11, Qk - K12@Dk)\n",
    "print(\"Computed displacements Du = \\n\",Du)"
   ]
  },
  {
   "cell_type": "markdown",
   "metadata": {},
   "source": [
    "Then, substitute into this equation:\n",
    "$$ \\{Q_u\\} = [K_{21}]\\{D_u\\} + [K_{22}]\\{D_k\\} $$"
   ]
  },
  {
   "cell_type": "code",
   "execution_count": 20,
   "metadata": {},
   "outputs": [
    {
     "name": "stdout",
     "output_type": "stream",
     "text": [
      "Computed reaction forces Qu =\n",
      " [ 1. -1.  1.]\n"
     ]
    }
   ],
   "source": [
    "Qu = K21@Du + K22@Dk\n",
    "print(\"Computed reaction forces Qu =\\n\",Qu)"
   ]
  },
  {
   "cell_type": "markdown",
   "id": "82703ffa",
   "metadata": {},
   "source": [
    "### Combine Results\n",
    "Combine the known and unknown displacements to get the **displacement vector**."
   ]
  },
  {
   "cell_type": "code",
   "execution_count": 21,
   "id": "4a20a087",
   "metadata": {},
   "outputs": [
    {
     "name": "stdout",
     "output_type": "stream",
     "text": [
      "Displacement Vector D =\n",
      " [ 0.     0.     0.     0.    -1.    -3.828]\n"
     ]
    }
   ],
   "source": [
    "D = np.zeros(nDOFs)\n",
    "D[DkDOFs] = Dk\n",
    "D[DuDOFs] = Du\n",
    "print(\"Displacement Vector D =\\n\",D)"
   ]
  },
  {
   "cell_type": "markdown",
   "metadata": {},
   "source": [
    "Combine the known and unknown forces to get the **force vector**."
   ]
  },
  {
   "cell_type": "code",
   "execution_count": 22,
   "metadata": {},
   "outputs": [
    {
     "name": "stdout",
     "output_type": "stream",
     "text": [
      "Force Vector Q =\n",
      " [ 1.  0. -1.  1.  0. -1.]\n"
     ]
    }
   ],
   "source": [
    "Q = np.zeros(nDOFs)\n",
    "Q[QkDOFs] = Qk\n",
    "Q[QuDOFs] = Qu\n",
    "print(\"Force Vector Q =\\n\",Q)"
   ]
  },
  {
   "cell_type": "markdown",
   "id": "33ff6084",
   "metadata": {},
   "source": [
    "## Post-processing\n",
    "Following the system solytion, we will calculate element **strains**, **stresses** and **forces**."
   ]
  },
  {
   "cell_type": "code",
   "execution_count": 23,
   "id": "6e791a05",
   "metadata": {},
   "outputs": [
    {
     "name": "stdout",
     "output_type": "stream",
     "text": [
      "\n",
      "\n",
      "Element Strains =\n",
      " [-1.     1.414  0.   ]\n",
      "\n",
      "Element Stresses =\n",
      " [-1.     1.414  0.   ]\n",
      "\n",
      "Element Forces =\n",
      " [-1.     1.414  0.   ]\n"
     ]
    }
   ],
   "source": [
    "Strains = np.zeros(nElements)\n",
    "Stresses = np.zeros(nElements)\n",
    "Forces = np.zeros(nElements)\n",
    "    \n",
    "# For each one of the elements:\n",
    "for iE, element in enumerate(Elements):\n",
    "  \n",
    "    # Find Element Nodes\n",
    "    node1 = element[0]\n",
    "    node2 = element[1]\n",
    "\n",
    "    # Find node coordinates\n",
    "    x1 = Nodes[node1-1,0]\n",
    "    y1 = Nodes[node1-1,1]\n",
    "    x2 = Nodes[node2-1,0]\n",
    "    y2 = Nodes[node2-1,1]\n",
    "\n",
    "    # Calculate coordinate transformation matrix\n",
    "    theta = np.arctan2((y2-y1),(x2-x1))\n",
    "    c = np.cos(theta)\n",
    "    s = np.sin(theta)\n",
    "    T = np.array([\n",
    "        [c,s,0,0],\n",
    "        [-s,c,0,0],\n",
    "        [0,0,c,s],\n",
    "        [0,0,-s,c]])\n",
    "   \n",
    "    # Find element displacements\n",
    "    U = D[[\n",
    "        2*(node1-1),\n",
    "        2*(node1-1)+1,\n",
    "        2*(node2-1),\n",
    "        2*(node2-1)+1]]\n",
    "    u = T@U\n",
    "\n",
    "    # Find element properties\n",
    "    E = Properties[iE,0]\n",
    "    A = Properties[iE,1]\n",
    "    L = np.sqrt((x2-x1)**2+(y2-y1)**2)\n",
    "\n",
    "    # Caclulate Element Strains, Stresses and Forces\n",
    "    B = [-1/L,0,1/L,0]\n",
    "    Strains[iE] = B@u\n",
    "    Stresses[iE] = E*Strains[iE]\n",
    "    Forces[iE] = Stresses[iE]*A\n",
    "\n",
    "# Print the results:\n",
    "print(\"\\n\\nElement Strains =\\n\",Strains)\n",
    "print(\"\\nElement Stresses =\\n\",Stresses)\n",
    "print(\"\\nElement Forces =\\n\",Forces)"
   ]
  },
  {
   "cell_type": "markdown",
   "id": "65e09fcf",
   "metadata": {},
   "source": [
    "## Plot\n",
    "This is similar to the plot above, but we will now add the **deformed mesh**.  \n",
    "<br>\n",
    "The displacements might be too small (or too large) and not show nicely in the plot.  \n",
    "Therefore, we will multiply them by a **magnification factor**."
   ]
  },
  {
   "cell_type": "code",
   "execution_count": 24,
   "metadata": {},
   "outputs": [],
   "source": [
    "magFactor = 0.1"
   ]
  },
  {
   "cell_type": "markdown",
   "metadata": {},
   "source": [
    "Now, let's proceed with the plot:"
   ]
  },
  {
   "cell_type": "code",
   "execution_count": 25,
   "id": "d7c7e620",
   "metadata": {},
   "outputs": [
    {
     "data": {
      "image/png": "[encoded data removed]",
      "text/plain": [
       "<Figure size 640x480 with 1 Axes>"
      ]
     },
     "metadata": {},
     "output_type": "display_data"
    }
   ],
   "source": [
    "# Create a new figure and axes\n",
    "fig2, ax2 = plt.subplots()\n",
    "ax2.set_aspect(1)\n",
    "\n",
    "# For each one of the elements\n",
    "for iE,elem in enumerate(Elements):\n",
    "\n",
    "    # Find Element Nodes\n",
    "    node1 = elem[0]\n",
    "    node2 = elem[1]\n",
    "    \n",
    "    # Find Node Coordinates\n",
    "    x1 = Nodes[node1-1,0]\n",
    "    y1 = Nodes[node1-1,1]\n",
    "    x2 = Nodes[node2-1,0]\n",
    "    y2 = Nodes[node2-1,1]\n",
    "    \n",
    "    # Find Node Displacements\n",
    "    U = D[[\n",
    "        2*(node1-1),\n",
    "        2*(node1-1)+1,\n",
    "        2*(node2-1),\n",
    "        2*(node2-1)+1]]\n",
    "\n",
    "    # Find New Node Coordinates\n",
    "    x1d = x1 + magFactor*U[0]\n",
    "    y1d = y1 + magFactor*U[1]\n",
    "    x2d = x2 + magFactor*U[2]\n",
    "    y2d = y2 + magFactor*U[3]\n",
    "\n",
    "    # Plot a line for the undeformed element\n",
    "    ax2.plot([x1,x2],[y1,y2], color='blue',marker='o',mfc='none')\n",
    "    # Plot a line for the undeformed element\n",
    "    ax2.plot([x1d,x2d],[y1d,y2d], color='red',linestyle='--',marker='o',mfc='none')"
   ]
  },
  {
   "cell_type": "markdown",
   "id": "69d66fd7",
   "metadata": {},
   "source": [
    "You can add code to annotate nodes and elements."
   ]
  }
 ],
 "metadata": {
  "kernelspec": {
   "display_name": "Python 3 (ipykernel)",
   "language": "python",
   "name": "python3"
  },
  "language_info": {
   "codemirror_mode": {
    "name": "ipython",
    "version": 3
   },
   "file_extension": ".py",
   "mimetype": "text/x-python",
   "name": "python",
   "nbconvert_exporter": "python",
   "pygments_lexer": "ipython3",
   "version": "3.10.9"
  }
 },
 "nbformat": 4,
 "nbformat_minor": 5
}
