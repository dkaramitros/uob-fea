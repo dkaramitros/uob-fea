{
 "cells": [
  {
   "cell_type": "markdown",
   "id": "5bcd56d0",
   "metadata": {},
   "source": [
    "# Finite Element Analysis\n",
    "Prepared by Dr Dimitris Karamitros, Senior Lecturer in Geotechnical Engineering.  \n",
    "Delivered as part of *CENG300010 - Advanced Structural Analysis* (University of Bristol, 2023).  \n",
    "<br>\n",
    "This notebook will be based on the simple case of rod elements that was implemented in previous weeks,  \n",
    "and will now focus on the case of beams that can also undergo bending.  \n",
    "<br>\n",
    "*This is the full version, with comments and explanations.*"
   ]
  },
  {
   "cell_type": "markdown",
   "id": "27c4bce7",
   "metadata": {},
   "source": [
    "## Libraries\n",
    "Finite Element Analysis requires basic linear algebra operations. The external library **numpy** will be imported to conduct these.  \n",
    "It is also possible to use **scipy**, which offers additional functionality for integration, differential equations, eigenvalue problems and others.  \n",
    "Nevertheless, **numpy** is sufficient for FEA.  \n",
    "<br>\n",
    "The **matplotlib.pyplot** library will also be imported to plot the obtained results."
   ]
  },
  {
   "cell_type": "code",
   "execution_count": null,
   "id": "466318a5",
   "metadata": {},
   "outputs": [],
   "source": [
    "import numpy as np\n",
    "import matplotlib.pyplot as plt"
   ]
  },
  {
   "cell_type": "markdown",
   "id": "2118bcf7",
   "metadata": {},
   "source": [
    "## Pre-processing\n",
    "First, we will define the structure to be analysed."
   ]
  },
  {
   "cell_type": "markdown",
   "id": "3d7d7435",
   "metadata": {},
   "source": [
    "### Input Variables\n",
    "Basic variables are initially defined."
   ]
  },
  {
   "cell_type": "code",
   "execution_count": null,
   "id": "f937db63",
   "metadata": {},
   "outputs": [],
   "source": [
    "E = 1\n",
    "A = 10\n",
    "# ANYTHING ELSE WE NEED?\n",
    "L = 1\n",
    "F = 1"
   ]
  },
  {
   "cell_type": "markdown",
   "id": "ef41c853",
   "metadata": {},
   "source": [
    "### Mesh Definition\n",
    "To define the finite element mesh, we need a list of nodes, a list of elements connecting these nodes, properties for these elements, supports, and applied loads."
   ]
  },
  {
   "cell_type": "markdown",
   "id": "b7797af5",
   "metadata": {},
   "source": [
    "**Nodes** will be defined in terms of their coordinates **[x,y]**.  \n",
    "We will define node numbers as 1,2,3,... We will deal with Python indexing later."
   ]
  },
  {
   "cell_type": "code",
   "execution_count": null,
   "id": "907bddee",
   "metadata": {},
   "outputs": [],
   "source": [
    "Nodes = np.array([]) # DEFINE A NEW STRUCTURE"
   ]
  },
  {
   "cell_type": "code",
   "execution_count": null,
   "id": "e4a301bd",
   "metadata": {},
   "outputs": [],
   "source": [
    "# Count the number of nodes and degrees of freedom (DOFs):\n",
    "nNodes = Nodes.shape[0]\n",
    "nDOFs = # HOW MANY DOFs PER NODE?\n",
    "print(\"Number of nodes = \",nNodes)\n",
    "print(\"Number of DOFs = \",nDOFs)"
   ]
  },
  {
   "cell_type": "markdown",
   "id": "d7068c46",
   "metadata": {},
   "source": [
    "**Elements** will be defined in terms of starting and ending node.  \n",
    "We will also assign a set of properties, from below.  \n",
    "Therefore, for each element, we will have **[node1, node2, properties]**."
   ]
  },
  {
   "cell_type": "code",
   "execution_count": null,
   "id": "d44e4fbf",
   "metadata": {},
   "outputs": [],
   "source": [
    "Elements = np.array([]) # DEFINE A NEW STRUCTURE"
   ]
  },
  {
   "cell_type": "code",
   "execution_count": null,
   "id": "60b1d6a3",
   "metadata": {},
   "outputs": [],
   "source": [
    "# Count the number of elements:\n",
    "nElements = Elements.shape[0]\n",
    "print(\"Number of elements = \",nElements)"
   ]
  },
  {
   "cell_type": "markdown",
   "id": "9a9bc0c8",
   "metadata": {},
   "source": [
    "For each set of element properties, **properties** will be defined following the convention **[E,A,I]**.  \n",
    "Remember that this is a list of lists of properties, hence the two brackets."
   ]
  },
  {
   "cell_type": "code",
   "execution_count": null,
   "id": "f7f6125e",
   "metadata": {},
   "outputs": [],
   "source": [
    "Properties = np.array([]) # WHAT PROPERTIES DO WE NEED NOW?"
   ]
  },
  {
   "cell_type": "markdown",
   "id": "a6e18e51",
   "metadata": {},
   "source": [
    "**Supports** (applied displacements) will be defined following the convention  \n",
    "**[node, DOF (1 for x, 2 for y, 3 for rotation), displacement or rotation]**."
   ]
  },
  {
   "cell_type": "code",
   "execution_count": null,
   "id": "5ecdc2f5",
   "metadata": {},
   "outputs": [],
   "source": [
    "Supports = np.array([]) # DEFINE A NEW STRUCTURE"
   ]
  },
  {
   "cell_type": "code",
   "execution_count": null,
   "id": "3a941662",
   "metadata": {},
   "outputs": [],
   "source": [
    "# Count the number of supports:\n",
    "nSupports = Supports.shape[0]\n",
    "print(\"Number of supports = \",nSupports)"
   ]
  },
  {
   "cell_type": "markdown",
   "id": "58be1bdd",
   "metadata": {},
   "source": [
    "**Loads** (applied forces) will be defined following the convention [node, direction (1 for x, 2 for y, 3 for rotation), load].  \n",
    "Remember that *x* and *y* are positive towards the right and up, respectively."
   ]
  },
  {
   "cell_type": "code",
   "execution_count": null,
   "id": "49218fb1",
   "metadata": {},
   "outputs": [],
   "source": [
    "Loads = np.array([]]) # DEFINE A NEW STRUCTURE"
   ]
  },
  {
   "cell_type": "code",
   "execution_count": null,
   "id": "4e4d805d",
   "metadata": {},
   "outputs": [],
   "source": [
    "# Count the number of loads:\n",
    "nLoads = Loads.shape[0]\n",
    "print(\"Number of loads = \",nLoads)"
   ]
  },
  {
   "cell_type": "markdown",
   "id": "33a6b490",
   "metadata": {},
   "source": [
    "### Plot Mesh\n",
    "We will plot the mesh to confirm that everything has been defined correctly."
   ]
  },
  {
   "cell_type": "code",
   "execution_count": null,
   "id": "20e06117",
   "metadata": {},
   "outputs": [],
   "source": [
    "# Create empty figure and axes\n",
    "fig1, ax1 = plt.subplots()\n",
    "# Set apsect ratio x:y to 1:1\n",
    "ax1.set_aspect(1)\n",
    "\n",
    "# For each one of the elements\n",
    "for iE,elem in enumerate(Elements):\n",
    "\n",
    "    # Find Element Nodes\n",
    "    node1 = elem[0]\n",
    "    node2 = elem[1]\n",
    "    \n",
    "    # Find Node Coordinates\n",
    "    # (we need to subtract 1 from node numbers, because we counted as 1,2,3,... while Python counts as 0,1,2,...)\n",
    "    # (we use 0 for y and 1 for y directions)\n",
    "    x1 = Nodes[node1-1,0]\n",
    "    y1 = Nodes[node1-1,1]\n",
    "    x2 = Nodes[node2-1,0]\n",
    "    y2 = Nodes[node2-1,1]\n",
    "\n",
    "    # Plot a Line\n",
    "    ax1.plot([x1,x2],[y1,y2], color='blue')\n",
    "\n",
    "    # Annotate the element number\n",
    "    # (we need to add 1 because Python starts counting at 0)\n",
    "    ax1.annotate(iE+1, xy=((x1+x2)/2,(y1+y2)/2), ha='center', va='center', color='blue', backgroundcolor='1')\n",
    "\n",
    "# For each one of the nodes\n",
    "for iN,node in enumerate(Nodes):\n",
    "\n",
    "    # Find Node Coordinates\n",
    "    x = node[0]\n",
    "    y = node[1]\n",
    "\n",
    "    # Annotate the node number\n",
    "    # (we need to add 1 because Python starts counting at 0)\n",
    "    ax1.annotate(iN+1, xy=(x,y), ha='center', va='center', color='black', backgroundcolor='1')"
   ]
  },
  {
   "cell_type": "markdown",
   "id": "cd9eb8c3",
   "metadata": {},
   "source": [
    "## Stiffness Matrix Assembly\n",
    "First, define the **Global Stiffness Matrix K**. It should be square, with dimensions equal to *nDOFs x nDOFs*."
   ]
  },
  {
   "cell_type": "code",
   "execution_count": null,
   "id": "930e0efc",
   "metadata": {},
   "outputs": [],
   "source": [
    "K = np.zeros((nDOFs,nDOFs))"
   ]
  },
  {
   "cell_type": "markdown",
   "id": "9cdbd1f9",
   "metadata": {},
   "source": [
    "Then, for each element, compute the **Element Stiffness Matrix ke**.  \n",
    "For rod elements, in the *local coodrinate system*, the Element Stiffness Matrix is:\n",
    "$$ [k_e] = \\left[ \\begin{array}{cccc}\n",
    "    \\frac{EA}{L} & 0 & 0 & -\\frac{EA}{L} & 0 & 0 \\\\\n",
    "    0 & \\frac{12EI}{L^3} & \\frac{6EI}{L^2} & 0 & -\\frac{12EI}{L^3} & \\frac{6EI}{L^2} \\\\\n",
    "    0 & \\frac{6EI}{L^2} & \\frac{4EI}{L} & 0 & -\\frac{6EI}{L^2} & \\frac{2EI}{L} \\\\\n",
    "    -\\frac{EA}{L} & 0 & 0 & \\frac{EA}{L} & 0 & 0 \\\\\n",
    "    0 & -\\frac{12EI}{L^3} & -\\frac{6EI}{L^2} & 0 & \\frac{12EI}{L^3} & -\\frac{6EI}{L^2} \\\\\n",
    "    0 & \\frac{6EI}{L^2} & \\frac{2EI}{L} & 0 & -\\frac{6EI}{L^2} & \\frac{4EI}{L} \\\\\n",
    "    \\end{array} \\right] $$\n",
    "The Element Stiffness Matrix in *global coordinates* is:\n",
    "$$ [K_e] = [T]^T [k_e] [T] $$\n",
    "where the *Coordinate Transform Matrix* is:\n",
    "$$ [T] = \\left[ \\begin{array}{cccc} c&s&0&0&0&0 \\\\ -s&c&0&0&0&0 \\\\ 0&0&1&0&0&0 \\\\ 0&0&0&c&s&0 \\\\ 0&0&0&-s&c&0 \\\\ 0&0&0&0&0&1 \\end{array} \\right] $$"
   ]
  },
  {
   "cell_type": "code",
   "execution_count": null,
   "id": "de9ab18a",
   "metadata": {},
   "outputs": [],
   "source": [
    "# For each one of the elements\n",
    "for iE,elem in enumerate(Elements):\n",
    "\n",
    "    # Find Element Nodes\n",
    "    node1 = elem[0]\n",
    "    node2 = elem[1]\n",
    "    \n",
    "    # Find Node Coordinates\n",
    "    x1 = Nodes[node1-1,0]\n",
    "    y1 = Nodes[node1-1,1]\n",
    "    x2 = Nodes[node2-1,0]\n",
    "    y2 = Nodes[node2-1,1]\n",
    "\n",
    "    # Compute Element Stiffness Matrix in Local Coordinates\n",
    "    prop = elem[2]\n",
    "    E = Properties[prop-1,0]\n",
    "    A = Properties[prop-1,1]\n",
    "    # WHAT ELSE DO WE NEED?\n",
    "    L = np.sqrt((x2-x1)**2+(y2-y1)**2)\n",
    "\n",
    "    # NEW ELEMENT STIFFNESS MATRIX\n",
    "    ke = np.array([\n",
    "        [E*A/L, 0, 0, -E*A/L, 0, 0],\n",
    "        [0, 12*E*I/L**3, 6*E*I/L**2, 0, -12*E*I/L**3, 6*E*I/L**2],\n",
    "        [0, 6*E*I/L**2, 4*E*I/L, 0, -6*E*I/L**2, 2*E*I/L],\n",
    "        [-E*A/L, 0, 0, E*A/L, 0, 0],\n",
    "        [0, -12*E*I/L**3, -6*E*I/L**2, 0, 12*E*I/L**3, -6*E*I/L**2],\n",
    "        [0, 6*E*I/L**2, 2*E*I/L, 0, -6*E*I/L**2, 4*E*I/L]])\n",
    "\n",
    "    # Compute Coordinate Transformation Matrix\n",
    "    theta = np.arctan2((y2-y1),(x2-x1))\n",
    "    c = np.cos(theta)\n",
    "    s = np.sin(theta)\n",
    "\n",
    "    # NEW COORDINATE TRANSFORM MATRIX\n",
    "    T = np.array([\n",
    "        [c,s,0,0,0,0],\n",
    "        [-s,c,0,0,0,0],\n",
    "        [0,0,1,0,0,0],\n",
    "        [0,0,0,c,s,0],\n",
    "        [0,0,0,-s,c,0],\n",
    "        [0,0,0,0,0,1]])\n",
    "   \n",
    "    # Compute Element Stiffness Matrix in Global Coordinates\n",
    "    Ke = T.T @ ke @ T\n",
    "    print(\"\\nElement\", iE+1, \"Stiffness Matrix =\")\n",
    "    with np.printoptions(precision = 3, suppress = True):\n",
    "        print(Ke)\n",
    "    \n",
    "    # Assemble Global Stiffness Matrix\n",
    "    # Observe that for node = 1,2,3,... the expression 3*(node-1) gives 0,3,6,...\n",
    "    # Similarly, for node = 1,2,3,... the expression 3*node gives 3,6,9,...    \n",
    "    # UPDATE:\n",
    "    K[2*(node1-1):2*node1 , 2*(node1-1):2*node1] += Ke[0:2,0:2]\n",
    "    K[2*(node1-1):2*node1 , 2*(node2-1):2*node2] += Ke[0:2,2:4]\n",
    "    K[2*(node2-1):2*node2 , 2*(node1-1):2*node1] += Ke[2:4,0:2]\n",
    "    K[2*(node2-1):2*node2 , 2*(node2-1):2*node2] += Ke[2:4,2:4]\n",
    "\n",
    "# Print the final matrix\n",
    "print(\"\\nGlobal Stiffness Matrix =\")\n",
    "with np.printoptions(precision = 3, suppress = True):\n",
    "    print(K)"
   ]
  },
  {
   "cell_type": "markdown",
   "id": "03359a31",
   "metadata": {},
   "source": [
    "## Partitioning & Solution\n",
    "To solve the problem, the stiffness matrix needs to be partitioned, based on known and unknown forces and displacements."
   ]
  },
  {
   "cell_type": "markdown",
   "id": "27867833",
   "metadata": {},
   "source": [
    "### Displacements\n",
    "We will start from the **known displacements** $\\{D_k\\}$, defined earlier as supports.  \n",
    "We will also define a vector with the corresponding degrees of freedom."
   ]
  },
  {
   "cell_type": "code",
   "execution_count": null,
   "id": "9a08b634",
   "metadata": {},
   "outputs": [],
   "source": [
    "Dk = np.zeros(nSupports)\n",
    "DkDOFs = np.zeros(nSupports,dtype=int)\n",
    "\n",
    "# For each one of the supports:\n",
    "for iS,support in enumerate(Supports):\n",
    "\n",
    "    # Find the node number:\n",
    "    node = support[0]\n",
    "\n",
    "    # Find the support direction:\n",
    "    xy = support[1]\n",
    "\n",
    "    # Find the degree of freedom:\n",
    "    dof = 3*(node-1) + (xy-1)\n",
    "\n",
    "    # Append it to the known degrees of freedom vector:\n",
    "    DkDOFs[iS] = dof\n",
    "\n",
    "    # Find the applied displacement or rotation:\n",
    "    disp = support[2]\n",
    "\n",
    "    # Append it to the known displacements vector:\n",
    "    Dk[iS] = disp\n",
    "\n",
    "# Print the results\n",
    "print(\"Known Displacements Dk = \\n\",Dk)\n",
    "print(\"\\nKnown Displacement DOFs =\\n\",DkDOFs)"
   ]
  },
  {
   "cell_type": "markdown",
   "id": "2373657c",
   "metadata": {},
   "source": [
    "### Loads\n",
    "Similar to the above, we will generate a vector of **known forces** $\\{Q_k\\}$.  \n",
    "We will also define a vector of the corresponding degrees of freedom.  \n",
    "<br>\n",
    "Note that there might be zero loads that have note been defined above.  \n",
    "Therefore, we will first populate a vector with all the loads.  \n",
    "Then, we will remove known-displacement DOFs and we will be left with known-force DOFs.  "
   ]
  },
  {
   "cell_type": "code",
   "execution_count": null,
   "id": "3a2a3230",
   "metadata": {},
   "outputs": [],
   "source": [
    "# Start with all DOFs\n",
    "QkDOFs = np.arange(nDOFs)\n",
    "Qk = np.zeros(nDOFs)\n",
    "\n",
    "# For each one of the loads:\n",
    "for iL,load in enumerate(Loads):\n",
    "    \n",
    "    # Find the node number:\n",
    "    node = load[0]\n",
    "\n",
    "    # Find the load direction:\n",
    "    xy = load[1]\n",
    "\n",
    "    # Find the degree of freedom:\n",
    "    dof = 3*(node-1) + (xy-1)\n",
    "\n",
    "    # Find the applied force:\n",
    "    force = load[2]\n",
    "\n",
    "    # Append it to the known forces vector:\n",
    "    Qk[dof] = force\n",
    "    \n",
    "# Remove DOFs with known displacements\n",
    "QkDOFs = np.delete(QkDOFs,DkDOFs)\n",
    "Qk = np.delete(Qk,DkDOFs)\n",
    "\n",
    "# Print the results\n",
    "print(\"Known Forces Qk = \\n\",Qk)\n",
    "print(\"\\nKnown Force DOFs =\\n\",QkDOFs)"
   ]
  },
  {
   "cell_type": "markdown",
   "id": "9b688b27",
   "metadata": {},
   "source": [
    "DOFs with known displacements have unknown forces and vice versa:"
   ]
  },
  {
   "cell_type": "code",
   "execution_count": null,
   "id": "c5efc586",
   "metadata": {},
   "outputs": [],
   "source": [
    "DuDOFs = QkDOFs\n",
    "QuDOFs = DkDOFs"
   ]
  },
  {
   "cell_type": "markdown",
   "id": "1af8eb07",
   "metadata": {},
   "source": [
    "### Partitioning\n",
    "Define the matrices $[K_{11}]$, $[K_{12}]$, $[K_{21}]$, and $[K_{22}]$."
   ]
  },
  {
   "cell_type": "code",
   "execution_count": null,
   "id": "c1d7a443",
   "metadata": {},
   "outputs": [],
   "source": [
    "K11 = K[np.ix_(QkDOFs,DuDOFs)]\n",
    "K12 = K[np.ix_(QkDOFs,DkDOFs)]\n",
    "K21 = K[np.ix_(QuDOFs,DuDOFs)]\n",
    "K22 = K[np.ix_(QuDOFs,DkDOFs)]\n",
    "\n",
    "# Print the results\n",
    "np.set_printoptions(precision = 3, suppress = True)\n",
    "print(\"K11 =\\n\",K11)\n",
    "print(\"\\nK12 =\\n\",K12)\n",
    "print(\"\\nK21 =\\n\",K21)\n",
    "print(\"\\nK22 =\\n\",K22)"
   ]
  },
  {
   "cell_type": "markdown",
   "id": "3f0651e4",
   "metadata": {},
   "source": [
    "### Solution\n",
    "First, solve this equation:\n",
    "$$ \\{D_u\\} = [K_{11}]^{-1} (\\{Q_k\\} - [K_{12}]\\{D_k\\}) $$"
   ]
  },
  {
   "cell_type": "code",
   "execution_count": null,
   "id": "79776687",
   "metadata": {},
   "outputs": [],
   "source": [
    "Du = np.linalg.solve(K11, Qk - K12@Dk)\n",
    "print(\"Computed displacements Du = \\n\",Du)"
   ]
  },
  {
   "cell_type": "markdown",
   "id": "afda5cab",
   "metadata": {},
   "source": [
    "Then, substitute into this equation:\n",
    "$$ \\{Q_u\\} = [K_{21}]\\{D_u\\} + [K_{22}]\\{D_k\\} $$"
   ]
  },
  {
   "cell_type": "code",
   "execution_count": null,
   "id": "9b211b6e",
   "metadata": {},
   "outputs": [],
   "source": [
    "Qu = K21@Du + K22@Dk\n",
    "print(\"Computed reaction forces Qu =\\n\",Qu)"
   ]
  },
  {
   "cell_type": "markdown",
   "id": "82703ffa",
   "metadata": {},
   "source": [
    "### Combine Results\n",
    "Combine the known and unknown displacements to get the **displacement vector**."
   ]
  },
  {
   "cell_type": "code",
   "execution_count": null,
   "id": "4a20a087",
   "metadata": {},
   "outputs": [],
   "source": [
    "D = np.zeros(nDOFs)\n",
    "D[DkDOFs] = Dk\n",
    "D[DuDOFs] = Du\n",
    "print(\"Displacement Vector D =\\n\",D)"
   ]
  },
  {
   "cell_type": "markdown",
   "id": "35a8c420",
   "metadata": {},
   "source": [
    "Combine the known and unknown forces to get the **force vector**."
   ]
  },
  {
   "cell_type": "code",
   "execution_count": null,
   "id": "c0cdf87f",
   "metadata": {},
   "outputs": [],
   "source": [
    "Q = np.zeros(nDOFs)\n",
    "Q[QkDOFs] = Qk\n",
    "Q[QuDOFs] = Qu\n",
    "print(\"Force Vector Q =\\n\",Q)"
   ]
  },
  {
   "cell_type": "markdown",
   "id": "33ff6084",
   "metadata": {},
   "source": [
    "## Post-processing\n",
    "Following the system solution, we will calculate element **axial forces**, **shear forces** and **bending moments**."
   ]
  },
  {
   "cell_type": "code",
   "execution_count": null,
   "metadata": {},
   "outputs": [],
   "source": [
    "Axial = np.zeros(nElements)\n",
    "Moment = np.zeros([nElements,2])\n",
    "Shear = np.zeros(nElements)\n",
    "    \n",
    "# For each one of the elements:\n",
    "for iE, elem in enumerate(Elements):\n",
    "  \n",
    "    # Find Element Nodes\n",
    "    node1 = elem[0]\n",
    "    node2 = elem[1]\n",
    "\n",
    "    # Find node coordinates\n",
    "    x1 = Nodes[node1-1,0]\n",
    "    y1 = Nodes[node1-1,1]\n",
    "    x2 = Nodes[node2-1,0]\n",
    "    y2 = Nodes[node2-1,1]\n",
    "\n",
    "    # Calculate coordinate transformation matrix\n",
    "    theta = np.arctan2((y2-y1),(x2-x1))\n",
    "    c = np.cos(theta)\n",
    "    s = np.sin(theta)\n",
    "    T = np.array([\n",
    "        [c,s,0,0,0,0],\n",
    "        [-s,c,0,0,0,0],\n",
    "        [0,0,1,0,0,0],\n",
    "        [0,0,0,c,s,0],\n",
    "        [0,0,0,-s,c,0],\n",
    "        [0,0,0,0,0,1]])\n",
    "   \n",
    "    # Find element displacements\n",
    "    U = D[[\n",
    "        3*(node1-1),\n",
    "        3*(node1-1)+1,\n",
    "        3*(node1-1)+2,\n",
    "        3*(node2-1),\n",
    "        3*(node2-1)+1,\n",
    "        3*(node2-1)+2]]\n",
    "    u = T@U\n",
    "\n",
    "    # Find element properties\n",
    "    prop = elem[2]\n",
    "    E = Properties[prop-1,0]\n",
    "    A = Properties[prop-1,1]\n",
    "    I = Properties[prop-1,2]\n",
    "    L = np.sqrt((x2-x1)**2+(y2-y1)**2)\n",
    "\n",
    "    # Caclulate Element Axial Forces, Shear Forces and Bending Moments\n",
    "    Naxial = np.array([-1/L,0,0,1/L,0,0])\n",
    "    # NEW CODE FOR SHEAR FORCES AND BENDING MOMENTS\n",
    "    Nmoment = np.array([[0, -6/L**2, -4/L, 0, 6/L**2, -2/L],\n",
    "        [0, 6/L**2, 2/L, 0, -6/L**2, 4/L]])\n",
    "    Nshear = np.array([0, 12/L**3, 6/L**2, 0, -12/L**3, 6/L**2])\n",
    "    # Caclulate Element Axial Forces, Shear Forces and Bending Moments\n",
    "    Axial[iE] = E*A*Naxial@u\n",
    "    Moment[iE,:] = E*I*Nmoment@u\n",
    "    Shear[iE] = E*I*Nshear@u\n",
    "\n",
    "# Print the results:\n",
    "print(\"Element Axial Forces =\\n\",Axial)\n",
    "print(\"\\nElement Bending Moments (start/end) =\\n\",Moment)\n",
    "print(\"\\nElement Shear Forces =\\n\",Shear)"
   ]
  },
  {
   "cell_type": "markdown",
   "id": "65e09fcf",
   "metadata": {},
   "source": [
    "## Plot\n",
    "This is similar to the plot above, but we will now add the **deformed mesh**.  \n",
    "<br>\n",
    "The displacements might be too small (or too large) and not show nicely in the plot.  \n",
    "Therefore, we will multiply them by a **magnification factor**."
   ]
  },
  {
   "cell_type": "code",
   "execution_count": null,
   "id": "c63e67b8",
   "metadata": {},
   "outputs": [],
   "source": [
    "magFactor = 0.2"
   ]
  },
  {
   "cell_type": "markdown",
   "id": "48dda07e",
   "metadata": {},
   "source": [
    "Now, let's proceed with the plot:"
   ]
  },
  {
   "cell_type": "code",
   "execution_count": null,
   "id": "d7c7e620",
   "metadata": {},
   "outputs": [],
   "source": [
    "# Create a new figure and axes\n",
    "fig2, ax2 = plt.subplots()\n",
    "ax2.set_aspect(1)\n",
    "\n",
    "# For each one of the elements\n",
    "for iE,elem in enumerate(Elements):\n",
    "\n",
    "    # Find Element Nodes\n",
    "    node1 = elem[0]\n",
    "    node2 = elem[1]\n",
    "    \n",
    "    # Find Node Coordinates\n",
    "    x1 = Nodes[node1-1,0]\n",
    "    y1 = Nodes[node1-1,1]\n",
    "    x2 = Nodes[node2-1,0]\n",
    "    y2 = Nodes[node2-1,1]\n",
    "\n",
    "    # Create a line for the undeformed element\n",
    "    L = np.sqrt((x2-x1)**2+(y2-y1)**2)\n",
    "    l = np.linspace(0,L)\n",
    "    xu = x1 + l*(x2-x1)\n",
    "    yu = y1 + l*(y2-y1)\n",
    "\n",
    "    # Find node displacements:\n",
    "    U = D[[\n",
    "        3*(node1-1),\n",
    "        3*(node1-1)+1,\n",
    "        3*(node1-1)+2,\n",
    "        3*(node2-1),\n",
    "        3*(node2-1)+1,\n",
    "        3*(node2-1)+2]]\n",
    "\n",
    "    # Calculate coordinate transformation matrix\n",
    "    theta = np.arctan2((y2-y1),(x2-x1))\n",
    "    c = np.cos(theta)\n",
    "    s = np.sin(theta)\n",
    "    T = np.array([\n",
    "        [c,s,0,0,0,0],\n",
    "        [-s,c,0,0,0,0],\n",
    "        [0,0,1,0,0,0],\n",
    "        [0,0,0,c,s,0],\n",
    "        [0,0,0,-s,c,0],\n",
    "        [0,0,0,0,0,1]])\n",
    "    # For single point displacements (will be used later)\n",
    "    t=np.array([[c,s],\n",
    "        [-s,c]])\n",
    "\n",
    "    # Transform displacements to local coordinates\n",
    "    u = T@U\n",
    "\n",
    "    # Define displacements along the beam element\n",
    "    Ux = np.zeros([l.shape[0],2])\n",
    "    for ix,x in enumerate(l):\n",
    "        # Shape functions\n",
    "        Nx = np.array([\n",
    "            [1-x/L, 0, 0, x/L, 0, 0],\n",
    "            [0, 1-3*x**2/L**2+2*x**3/L**3, x-2*x**2/L+x**3/L**2, 0, 3*x**2/L**2-2*x**3/L**3, -x**2/L+x**3/L**2]])\n",
    "        # Displacements along the element in local coordinates\n",
    "        ux = Nx@u\n",
    "        # Displacements along the element in global coordinates\n",
    "        Ux[ix,:] = t.T@ux\n",
    "\n",
    "    # Final coordinates for the undeformed element\n",
    "    xd = xu + magFactor*Ux[:,0]\n",
    "    yd = yu + magFactor*Ux[:,1]\n",
    "\n",
    "    # Plot a line for the undeformed element\n",
    "    ax2.plot(xu,yu, color='blue')\n",
    "    # Plot a line for the deformed element\n",
    "    ax2.plot(xd,yd, color='red',linestyle='--')"
   ]
  },
  {
   "cell_type": "markdown",
   "id": "69d66fd7",
   "metadata": {},
   "source": [
    "You can add code to annotate nodes and elements."
   ]
  },
  {
   "cell_type": "markdown",
   "metadata": {},
   "source": []
  }
 ],
 "metadata": {
  "kernelspec": {
   "display_name": "Python 3 (ipykernel)",
   "language": "python",
   "name": "python3"
  },
  "language_info": {
   "codemirror_mode": {
    "name": "ipython",
    "version": 3
   },
   "file_extension": ".py",
   "mimetype": "text/x-python",
   "name": "python",
   "nbconvert_exporter": "python",
   "pygments_lexer": "ipython3",
   "version": "3.10.9"
  }
 },
 "nbformat": 4,
 "nbformat_minor": 5
}
